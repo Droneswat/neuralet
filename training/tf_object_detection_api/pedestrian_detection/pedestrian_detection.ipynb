{
 "cells": [
  {
   "cell_type": "code",
   "execution_count": 34,
   "metadata": {},
   "outputs": [
    {
     "name": "stdout",
     "output_type": "stream",
     "text": [
      "Ign:1 https://developer.download.nvidia.com/compute/cuda/repos/ubuntu1804/x86_64  InRelease\n",
      "Ign:2 https://developer.download.nvidia.com/compute/machine-learning/repos/ubuntu1804/x86_64  InRelease\n",
      "Hit:3 https://developer.download.nvidia.com/compute/cuda/repos/ubuntu1804/x86_64  Release\n",
      "Hit:4 https://developer.download.nvidia.com/compute/machine-learning/repos/ubuntu1804/x86_64  Release\n",
      "Hit:5 http://security.ubuntu.com/ubuntu bionic-security InRelease              \n",
      "Hit:8 http://archive.ubuntu.com/ubuntu bionic InRelease                        \n",
      "Hit:9 http://archive.ubuntu.com/ubuntu bionic-updates InRelease\n",
      "Hit:10 http://archive.ubuntu.com/ubuntu bionic-backports InRelease\n",
      "Reading package lists... Done \n",
      "Reading package lists... Done\n",
      "Building dependency tree       \n",
      "Reading state information... Done\n",
      "wget is already the newest version (1.19.4-1ubuntu2.2).\n",
      "ffmpeg is already the newest version (7:3.4.6-0ubuntu0.18.04.1).\n",
      "0 upgraded, 0 newly installed, 0 to remove and 81 not upgraded.\n",
      "Collecting pandas\n",
      "\u001b[?25l  Downloading https://files.pythonhosted.org/packages/bb/71/8f53bdbcbc67c912b888b40def255767e475402e9df64050019149b1a943/pandas-1.0.3-cp36-cp36m-manylinux1_x86_64.whl (10.0MB)\n",
      "\u001b[K     |████████████████████████████████| 10.0MB 2.2MB/s eta 0:00:01\n",
      "\u001b[?25hRequirement already satisfied: numpy>=1.13.3 in /usr/local/lib/python3.6/dist-packages (from pandas) (1.17.3)\n",
      "Collecting pytz>=2017.2\n",
      "\u001b[?25l  Downloading https://files.pythonhosted.org/packages/4f/a4/879454d49688e2fad93e59d7d4efda580b783c745fd2ec2a3adf87b0808d/pytz-2020.1-py2.py3-none-any.whl (510kB)\n",
      "\u001b[K     |████████████████████████████████| 512kB 12.3MB/s eta 0:00:01\n",
      "\u001b[?25hRequirement already satisfied: python-dateutil>=2.6.1 in /usr/local/lib/python3.6/dist-packages (from pandas) (2.8.1)\n",
      "Requirement already satisfied: six>=1.5 in /usr/lib/python3/dist-packages (from python-dateutil>=2.6.1->pandas) (1.11.0)\n",
      "Installing collected packages: pytz, pandas\n",
      "Successfully installed pandas-1.0.3 pytz-2020.1\n",
      "\u001b[33mWARNING: You are using pip version 19.3.1; however, version 20.1.1 is available.\n",
      "You should consider upgrading via the 'pip install --upgrade pip' command.\u001b[0m\n"
     ]
    }
   ],
   "source": [
    "!apt-get update && apt-get install -y wget ffmpeg\n",
    "!pip install pandas"
   ]
  },
  {
   "cell_type": "code",
   "execution_count": 42,
   "metadata": {},
   "outputs": [
    {
     "name": "stdout",
     "output_type": "stream",
     "text": [
      "total 1.1G\r\n",
      "-rw-r--r-- 1 root root 5.3M May 19  2011 TownCentre-groundtruth.top\r\n",
      "-rw-r--r-- 1 root root 141M Oct 30  2011 TownCentreXVID.avi\r\n",
      "drwxr-xr-x 2 root root 120K May 24 11:25 images\r\n",
      "-rw-r--r-- 1 root root 651M May 24 11:37 oxford_town_center_train.record\r\n",
      "-rw-r--r-- 1 root root 291M May 24 11:37 oxford_town_center_val.record\r\n",
      "drwxr-xr-x 2 root root 124K May 24 11:34 xmls\r\n"
     ]
    }
   ],
   "source": [
    "!ls -lh /experiment_dir/dataset/"
   ]
  },
  {
   "cell_type": "code",
   "execution_count": 43,
   "metadata": {},
   "outputs": [
    {
     "name": "stdout",
     "output_type": "stream",
     "text": [
      "env: DATASET_DIR=/experiment_dir/dataset\n",
      "env: PRETRAINED_MODELS_DIR=/experiment_dir/pretrained_models\n"
     ]
    }
   ],
   "source": [
    "%set_env DATASET_DIR=/experiment_dir/dataset\n",
    "%set_env PRETRAINED_MODELS_DIR =/experiment_dir/pretrained_models"
   ]
  },
  {
   "cell_type": "code",
   "execution_count": 9,
   "metadata": {},
   "outputs": [
    {
     "name": "stdout",
     "output_type": "stream",
     "text": [
      "--2020-05-24 11:16:21--  http://www.robots.ox.ac.uk/ActiveVision/Research/Projects/2009bbenfold_headpose/Datasets/TownCentreXVID.avi\n",
      "Resolving www.robots.ox.ac.uk (www.robots.ox.ac.uk)... 129.67.94.2\n",
      "Connecting to www.robots.ox.ac.uk (www.robots.ox.ac.uk)|129.67.94.2|:80... connected.\n",
      "HTTP request sent, awaiting response... 200 OK\n",
      "Length: 147486436 (141M) [video/x-msvideo]\n",
      "Saving to: ‘/experiment_dir/dataset/TownCentreXVID.avi’\n",
      "\n",
      "/experiment_dir/dat 100%[===================>] 140.65M  9.07MB/s    in 40s     \n",
      "\n",
      "2020-05-24 11:17:01 (3.56 MB/s) - ‘/experiment_dir/dataset/TownCentreXVID.avi’ saved [147486436/147486436]\n",
      "\n",
      "--2020-05-24 11:17:01--  https://www.robots.ox.ac.uk/ActiveVision/Research/Projects/2009bbenfold_headpose/Datasets/TownCentre-groundtruth.top\n",
      "Resolving www.robots.ox.ac.uk (www.robots.ox.ac.uk)... 129.67.94.2\n",
      "Connecting to www.robots.ox.ac.uk (www.robots.ox.ac.uk)|129.67.94.2|:443... connected.\n",
      "HTTP request sent, awaiting response... 200 OK\n",
      "Length: 5553300 (5.3M)\n",
      "Saving to: ‘/experiment_dir/dataset/TownCentre-groundtruth.top’\n",
      "\n",
      "/experiment_dir/dat 100%[===================>]   5.30M  2.74MB/s    in 1.9s    \n",
      "\n",
      "2020-05-24 11:17:04 (2.74 MB/s) - ‘/experiment_dir/dataset/TownCentre-groundtruth.top’ saved [5553300/5553300]\n",
      "\n"
     ]
    }
   ],
   "source": [
    "# Download Oxford Town Center Dataset video file and csv annotation file\n",
    "!bash ./download_towncenter_video_and_labels.sh"
   ]
  },
  {
   "cell_type": "code",
   "execution_count": 17,
   "metadata": {},
   "outputs": [
    {
     "name": "stdout",
     "output_type": "stream",
     "text": [
      "mkdir: cannot create directory ‘/experiment_dir/dataset/images’: File exists\n",
      "ffmpeg version 3.4.6-0ubuntu0.18.04.1 Copyright (c) 2000-2019 the FFmpeg developers\n",
      "  built with gcc 7 (Ubuntu 7.3.0-16ubuntu3)\n",
      "  configuration: --prefix=/usr --extra-version=0ubuntu0.18.04.1 --toolchain=hardened --libdir=/usr/lib/x86_64-linux-gnu --incdir=/usr/include/x86_64-linux-gnu --enable-gpl --disable-stripping --enable-avresample --enable-avisynth --enable-gnutls --enable-ladspa --enable-libass --enable-libbluray --enable-libbs2b --enable-libcaca --enable-libcdio --enable-libflite --enable-libfontconfig --enable-libfreetype --enable-libfribidi --enable-libgme --enable-libgsm --enable-libmp3lame --enable-libmysofa --enable-libopenjpeg --enable-libopenmpt --enable-libopus --enable-libpulse --enable-librubberband --enable-librsvg --enable-libshine --enable-libsnappy --enable-libsoxr --enable-libspeex --enable-libssh --enable-libtheora --enable-libtwolame --enable-libvorbis --enable-libvpx --enable-libwavpack --enable-libwebp --enable-libx265 --enable-libxml2 --enable-libxvid --enable-libzmq --enable-libzvbi --enable-omx --enable-openal --enable-opengl --enable-sdl2 --enable-libdc1394 --enable-libdrm --enable-libiec61883 --enable-chromaprint --enable-frei0r --enable-libopencv --enable-libx264 --enable-shared\n",
      "  libavutil      55. 78.100 / 55. 78.100\n",
      "  libavcodec     57.107.100 / 57.107.100\n",
      "  libavformat    57. 83.100 / 57. 83.100\n",
      "  libavdevice    57. 10.100 / 57. 10.100\n",
      "  libavfilter     6.107.100 /  6.107.100\n",
      "  libavresample   3.  7.  0 /  3.  7.  0\n",
      "  libswscale      4.  8.100 /  4.  8.100\n",
      "  libswresample   2.  9.100 /  2.  9.100\n",
      "  libpostproc    54.  7.100 / 54.  7.100\n",
      "Input #0, avi, from '/experiment_dir/dataset/TownCentreXVID.avi':\n",
      "  Duration: 00:05:00.00, start: 0.000000, bitrate: 3932 kb/s\n",
      "    Stream #0:0: Video: mpeg4 (Advanced Simple Profile) (XVID / 0x44495658), yuv420p, 1920x1080 [SAR 1:1 DAR 16:9], 3928 kb/s, 25 fps, 25 tbr, 25 tbn, 25 tbc\n",
      "Stream mapping:\n",
      "  Stream #0:0 -> #0:0 (mpeg4 (native) -> mjpeg (native))\n",
      "Press [q] to stop, [?] for help\n",
      "\u001b[1;34m[swscaler @ 0x5602df788960] \u001b[0m\u001b[0;33mdeprecated pixel format used, make sure you did set range correctly\n",
      "\u001b[0mOutput #0, image2, to '/experiment_dir/dataset/images/%d.jpg':\n",
      "  Metadata:\n",
      "    encoder         : Lavf57.83.100\n",
      "    Stream #0:0: Video: mjpeg, yuvj420p(pc), 1920x1080 [SAR 1:1 DAR 16:9], q=2-31, 200 kb/s, 25 fps, 25 tbn, 25 tbc\n",
      "    Metadata:\n",
      "      encoder         : Lavc57.107.100 mjpeg\n",
      "    Side data:\n",
      "      cpb: bitrate max/min/avg: 0/0/200000 buffer size: 0 vbv_delay: -1\n",
      "frame= 4501 fps=225 q=1.0 Lsize=N/A time=00:03:00.12 bitrate=N/A dup=1 drop=0 speed=   9x    \n",
      "video:957353kB audio:0kB subtitle:0kB other streams:0kB global headers:0kB muxing overhead: unknown\n"
     ]
    }
   ],
   "source": [
    "# Extract images from video, resize them and save in images directory with `ffmpeg`\n",
    "!mkdir $DATASET_DIR/images\n",
    "!ffmpeg -i $DATASET_DIR/TownCentreXVID.avi -q:v 1 -start_number 0 -frames:v 4501 $DATASET_DIR/images/%d.jpg"
   ]
  },
  {
   "cell_type": "code",
   "execution_count": 39,
   "metadata": {},
   "outputs": [
    {
     "name": "stdout",
     "output_type": "stream",
     "text": [
      "==================== Start Creating xml Files! ====================\n",
      "annotation number 4500 prepared\r"
     ]
    }
   ],
   "source": [
    "# Create xml annotation file and save in xmls directory\n",
    "!python create_xmls.py --annotation_path $DATASET_DIR/TownCentre-groundtruth.top"
   ]
  },
  {
   "cell_type": "code",
   "execution_count": 40,
   "metadata": {},
   "outputs": [
    {
     "name": "stdout",
     "output_type": "stream",
     "text": [
      "WARNING:tensorflow:From create_tfrecord.py:201: The name tf.app.run is deprecated. Please use tf.compat.v1.app.run instead.\n",
      "\n",
      "WARNING:tensorflow:From /models/research/object_detection/utils/label_map_util.py:138: The name tf.gfile.GFile is deprecated. Please use tf.io.gfile.GFile instead.\n",
      "\n",
      "W0524 11:37:08.788470 140503053051712 module_wrapper.py:139] From /models/research/object_detection/utils/label_map_util.py:138: The name tf.gfile.GFile is deprecated. Please use tf.io.gfile.GFile instead.\n",
      "\n",
      "I0524 11:37:08.788950 140503053051712 create_tfrecord.py:168] Reading from Oxford Town Center Dataset.\n",
      "I0524 11:37:08.790720 140503053051712 create_tfrecord.py:182] 3150 training and 1351 validation examples.\n",
      "WARNING:tensorflow:From create_tfrecord.py:138: The name tf.python_io.TFRecordWriter is deprecated. Please use tf.io.TFRecordWriter instead.\n",
      "\n",
      "W0524 11:37:08.790819 140503053051712 module_wrapper.py:139] From create_tfrecord.py:138: The name tf.python_io.TFRecordWriter is deprecated. Please use tf.io.TFRecordWriter instead.\n",
      "\n",
      "I0524 11:37:08.790948 140503053051712 create_tfrecord.py:141] On image 0 of 3150\n",
      "/models/research/object_detection/utils/dataset_util.py:79: FutureWarning: The behavior of this method will change in future versions. Use specific 'len(elem)' or 'elem is not None' test instead.\n",
      "  if not xml:\n",
      "I0524 11:37:08.882479 140503053051712 create_tfrecord.py:141] On image 100 of 3150\n",
      "I0524 11:37:08.968871 140503053051712 create_tfrecord.py:141] On image 200 of 3150\n",
      "I0524 11:37:09.055872 140503053051712 create_tfrecord.py:141] On image 300 of 3150\n",
      "I0524 11:37:09.139963 140503053051712 create_tfrecord.py:141] On image 400 of 3150\n",
      "I0524 11:37:09.225085 140503053051712 create_tfrecord.py:141] On image 500 of 3150\n",
      "I0524 11:37:09.311806 140503053051712 create_tfrecord.py:141] On image 600 of 3150\n",
      "I0524 11:37:09.399191 140503053051712 create_tfrecord.py:141] On image 700 of 3150\n",
      "I0524 11:37:09.495219 140503053051712 create_tfrecord.py:141] On image 800 of 3150\n",
      "I0524 11:37:09.585596 140503053051712 create_tfrecord.py:141] On image 900 of 3150\n",
      "I0524 11:37:09.671620 140503053051712 create_tfrecord.py:141] On image 1000 of 3150\n",
      "I0524 11:37:09.758427 140503053051712 create_tfrecord.py:141] On image 1100 of 3150\n",
      "I0524 11:37:09.845266 140503053051712 create_tfrecord.py:141] On image 1200 of 3150\n",
      "I0524 11:37:09.930205 140503053051712 create_tfrecord.py:141] On image 1300 of 3150\n",
      "I0524 11:37:10.017405 140503053051712 create_tfrecord.py:141] On image 1400 of 3150\n",
      "I0524 11:37:10.102538 140503053051712 create_tfrecord.py:141] On image 1500 of 3150\n",
      "I0524 11:37:10.187815 140503053051712 create_tfrecord.py:141] On image 1600 of 3150\n",
      "I0524 11:37:10.274049 140503053051712 create_tfrecord.py:141] On image 1700 of 3150\n",
      "I0524 11:37:10.359777 140503053051712 create_tfrecord.py:141] On image 1800 of 3150\n",
      "I0524 11:37:10.445783 140503053051712 create_tfrecord.py:141] On image 1900 of 3150\n",
      "I0524 11:37:10.532480 140503053051712 create_tfrecord.py:141] On image 2000 of 3150\n",
      "I0524 11:37:10.618283 140503053051712 create_tfrecord.py:141] On image 2100 of 3150\n",
      "I0524 11:37:10.705620 140503053051712 create_tfrecord.py:141] On image 2200 of 3150\n",
      "I0524 11:37:10.790803 140503053051712 create_tfrecord.py:141] On image 2300 of 3150\n",
      "I0524 11:37:10.876980 140503053051712 create_tfrecord.py:141] On image 2400 of 3150\n",
      "I0524 11:37:10.963384 140503053051712 create_tfrecord.py:141] On image 2500 of 3150\n",
      "I0524 11:37:11.051568 140503053051712 create_tfrecord.py:141] On image 2600 of 3150\n",
      "I0524 11:37:11.139311 140503053051712 create_tfrecord.py:141] On image 2700 of 3150\n",
      "I0524 11:37:11.224365 140503053051712 create_tfrecord.py:141] On image 2800 of 3150\n",
      "I0524 11:37:11.309689 140503053051712 create_tfrecord.py:141] On image 2900 of 3150\n",
      "I0524 11:37:11.393908 140503053051712 create_tfrecord.py:141] On image 3000 of 3150\n",
      "I0524 11:37:11.479597 140503053051712 create_tfrecord.py:141] On image 3100 of 3150\n",
      "I0524 11:37:11.522606 140503053051712 create_tfrecord.py:141] On image 0 of 1351\n",
      "I0524 11:37:11.610442 140503053051712 create_tfrecord.py:141] On image 100 of 1351\n",
      "I0524 11:37:11.708696 140503053051712 create_tfrecord.py:141] On image 200 of 1351\n",
      "I0524 11:37:11.807383 140503053051712 create_tfrecord.py:141] On image 300 of 1351\n",
      "I0524 11:37:11.898261 140503053051712 create_tfrecord.py:141] On image 400 of 1351\n",
      "I0524 11:37:11.989069 140503053051712 create_tfrecord.py:141] On image 500 of 1351\n",
      "I0524 11:37:12.080189 140503053051712 create_tfrecord.py:141] On image 600 of 1351\n",
      "I0524 11:37:12.167896 140503053051712 create_tfrecord.py:141] On image 700 of 1351\n",
      "I0524 11:37:12.250308 140503053051712 create_tfrecord.py:141] On image 800 of 1351\n",
      "I0524 11:37:12.334796 140503053051712 create_tfrecord.py:141] On image 900 of 1351\n",
      "I0524 11:37:12.424479 140503053051712 create_tfrecord.py:141] On image 1000 of 1351\n",
      "I0524 11:37:12.517147 140503053051712 create_tfrecord.py:141] On image 1100 of 1351\n",
      "I0524 11:37:12.607817 140503053051712 create_tfrecord.py:141] On image 1200 of 1351\n",
      "I0524 11:37:12.694523 140503053051712 create_tfrecord.py:141] On image 1300 of 1351\n"
     ]
    }
   ],
   "source": [
    "!python create_tfrecord.py --data_dir $DATASET_DIR --output_dir $DATASET_DIR --label_map_path ./label_map.pbtxt"
   ]
  },
  {
   "cell_type": "code",
   "execution_count": 45,
   "metadata": {},
   "outputs": [],
   "source": [
    "!mkdir $PRETRAINED_MODELS_DIR"
   ]
  },
  {
   "cell_type": "code",
   "execution_count": 55,
   "metadata": {},
   "outputs": [
    {
     "name": "stdout",
     "output_type": "stream",
     "text": [
      "total 180M\r\n",
      "drwxr-xr-x 3 345018 89939 4.0K Mar 30  2018 ssd_mobilenet_v2_coco_2018_03_29\r\n",
      "-rw-r--r-- 1 root   root  180M Apr  2  2018 ssd_mobilenet_v2_coco_2018_03_29.tar.gz\r\n"
     ]
    }
   ],
   "source": [
    "!ls  -lh $PRETRAINED_MODELS_DIR"
   ]
  },
  {
   "cell_type": "code",
   "execution_count": 48,
   "metadata": {},
   "outputs": [
    {
     "name": "stdout",
     "output_type": "stream",
     "text": [
      "--2020-05-24 11:54:56--  http://download.tensorflow.org/models/object_detection/ssd_mobilenet_v2_coco_2018_03_29.tar.gz\n",
      "Resolving download.tensorflow.org (download.tensorflow.org)... 172.217.5.112, 2607:f8b0:4005:808::2010\n",
      "Connecting to download.tensorflow.org (download.tensorflow.org)|172.217.5.112|:80... connected.\n",
      "HTTP request sent, awaiting response... 200 OK\n",
      "Length: 187925923 (179M) [application/x-tar]\n",
      "Saving to: ‘/experiment_dir/pretrained_models/ssd_mobilenet_v2_coco_2018_03_29.tar.gz’\n",
      "\n",
      "/experiment_dir/pre 100%[===================>] 179.22M  16.4MB/s    in 11s     \n",
      "\n",
      "2020-05-24 11:55:07 (16.6 MB/s) - ‘/experiment_dir/pretrained_models/ssd_mobilenet_v2_coco_2018_03_29.tar.gz’ saved [187925923/187925923]\n",
      "\n"
     ]
    }
   ],
   "source": [
    "!wget http://download.tensorflow.org/models/object_detection/ssd_mobilenet_v2_coco_2018_03_29.tar.gz -O $PRETRAINED_MODELS_DIR/ssd_mobilenet_v2_coco_2018_03_29.tar.gz\n",
    "!wget http://download.tensorflow.org/models/object_detection/ssdlite_mobilenet_v2_coco_2018_05_09.tar.gz -O $PRETRAINED_MODELS_DIR/ssdlite_mobilenet_v2_coco_2018_05_09.tar.gz\n",
    "!wget http://download.tensorflow.org/models/object_detection/faster_rcnn_resnet50_coco_2018_01_28.tar.gz -O $PRETRAINED_MODELS_DIR/faster_rcnn_resnet50_coco_2018_01_28.tar.gz"
   ]
  },
  {
   "cell_type": "code",
   "execution_count": 53,
   "metadata": {},
   "outputs": [
    {
     "name": "stdout",
     "output_type": "stream",
     "text": [
      "ssd_mobilenet_v2_coco_2018_03_29/checkpoint\n",
      "ssd_mobilenet_v2_coco_2018_03_29/model.ckpt.meta\n",
      "ssd_mobilenet_v2_coco_2018_03_29/pipeline.config\n",
      "ssd_mobilenet_v2_coco_2018_03_29/saved_model/saved_model.pb\n",
      "ssd_mobilenet_v2_coco_2018_03_29/frozen_inference_graph.pb\n",
      "ssd_mobilenet_v2_coco_2018_03_29/saved_model/\n",
      "ssd_mobilenet_v2_coco_2018_03_29/saved_model/variables/\n",
      "ssd_mobilenet_v2_coco_2018_03_29/model.ckpt.index\n",
      "ssd_mobilenet_v2_coco_2018_03_29/\n",
      "ssd_mobilenet_v2_coco_2018_03_29/model.ckpt.data-00000-of-00001\n"
     ]
    }
   ],
   "source": [
    "!tar -xzvf $PRETRAINED_MODELS_DIR/ssd_mobilenet_v2_coco_2018_03_29.tar.gz -C $PRETRAINED_MODELS_DIR"
   ]
  },
  {
   "cell_type": "code",
   "execution_count": 59,
   "metadata": {},
   "outputs": [
    {
     "name": "stdout",
     "output_type": "stream",
     "text": [
      "env: PIPELINE_CONFIG_PATH=/repo/training/tf_object_detection_api/pedestrian_detection/configs/ssd_mobilenet_v2_pedestrian.config\n",
      "env: MODEL_DIR=/experiment_dir/ped_ssd_mobilenet_v2\n",
      "env: NUM_TRAIN_STEPS=50000\n",
      "env: SAMPLE_1_OF_N_EVAL_EXAMPLES=1\n"
     ]
    }
   ],
   "source": [
    "!mkdir /experiment_dir/ped_ssd_mobilenet_v2\n",
    "%set_env PIPELINE_CONFIG_PATH=/repo/training/tf_object_detection_api/pedestrian_detection/configs/ssd_mobilenet_v2_pedestrian.config\n",
    "%set_env MODEL_DIR=/experiment_dir/ped_ssd_mobilenet_v2\n",
    "%set_env NUM_TRAIN_STEPS=50000\n",
    "%set_env SAMPLE_1_OF_N_EVAL_EXAMPLES=1"
   ]
  },
  {
   "cell_type": "code",
   "execution_count": null,
   "metadata": {},
   "outputs": [
    {
     "name": "stdout",
     "output_type": "stream",
     "text": [
      "WARNING:tensorflow:\n",
      "The TensorFlow contrib module will not be included in TensorFlow 2.0.\n",
      "For more information, please see:\n",
      "  * https://github.com/tensorflow/community/blob/master/rfcs/20180907-contrib-sunset.md\n",
      "  * https://github.com/tensorflow/addons\n",
      "  * https://github.com/tensorflow/io (for I/O related ops)\n",
      "If you depend on functionality not listed there, please file an issue.\n",
      "\n",
      "WARNING:tensorflow:From /models/research/object_detection/model_main.py:109: The name tf.app.run is deprecated. Please use tf.compat.v1.app.run instead.\n",
      "\n",
      "WARNING:tensorflow:From /models/research/object_detection/utils/config_util.py:102: The name tf.gfile.GFile is deprecated. Please use tf.io.gfile.GFile instead.\n",
      "\n",
      "W0524 12:19:17.108064 140528213337920 module_wrapper.py:139] From /models/research/object_detection/utils/config_util.py:102: The name tf.gfile.GFile is deprecated. Please use tf.io.gfile.GFile instead.\n",
      "\n",
      "WARNING:tensorflow:From /models/research/object_detection/model_lib.py:628: The name tf.logging.warning is deprecated. Please use tf.compat.v1.logging.warning instead.\n",
      "\n",
      "W0524 12:19:17.110463 140528213337920 module_wrapper.py:139] From /models/research/object_detection/model_lib.py:628: The name tf.logging.warning is deprecated. Please use tf.compat.v1.logging.warning instead.\n",
      "\n",
      "WARNING:tensorflow:Forced number of epochs for all eval validations to be 1.\n",
      "W0524 12:19:17.110527 140528213337920 model_lib.py:629] Forced number of epochs for all eval validations to be 1.\n",
      "WARNING:tensorflow:From /models/research/object_detection/utils/config_util.py:488: The name tf.logging.info is deprecated. Please use tf.compat.v1.logging.info instead.\n",
      "\n",
      "W0524 12:19:17.110599 140528213337920 module_wrapper.py:139] From /models/research/object_detection/utils/config_util.py:488: The name tf.logging.info is deprecated. Please use tf.compat.v1.logging.info instead.\n",
      "\n",
      "INFO:tensorflow:Maybe overwriting train_steps: 50000\n",
      "I0524 12:19:17.110649 140528213337920 config_util.py:488] Maybe overwriting train_steps: 50000\n",
      "INFO:tensorflow:Maybe overwriting use_bfloat16: False\n",
      "I0524 12:19:17.110698 140528213337920 config_util.py:488] Maybe overwriting use_bfloat16: False\n",
      "INFO:tensorflow:Maybe overwriting sample_1_of_n_eval_examples: 1\n",
      "I0524 12:19:17.110742 140528213337920 config_util.py:488] Maybe overwriting sample_1_of_n_eval_examples: 1\n",
      "INFO:tensorflow:Maybe overwriting eval_num_epochs: 1\n",
      "I0524 12:19:17.110787 140528213337920 config_util.py:488] Maybe overwriting eval_num_epochs: 1\n",
      "INFO:tensorflow:Maybe overwriting load_pretrained: True\n",
      "I0524 12:19:17.110830 140528213337920 config_util.py:488] Maybe overwriting load_pretrained: True\n",
      "INFO:tensorflow:Ignoring config override key: load_pretrained\n",
      "I0524 12:19:17.110874 140528213337920 config_util.py:498] Ignoring config override key: load_pretrained\n",
      "WARNING:tensorflow:Expected number of evaluation epochs is 1, but instead encountered `eval_on_train_input_config.num_epochs` = 0. Overwriting `num_epochs` to 1.\n",
      "W0524 12:19:17.111354 140528213337920 model_lib.py:645] Expected number of evaluation epochs is 1, but instead encountered `eval_on_train_input_config.num_epochs` = 0. Overwriting `num_epochs` to 1.\n",
      "INFO:tensorflow:create_estimator_and_inputs: use_tpu False, export_to_tpu False\n",
      "I0524 12:19:17.111408 140528213337920 model_lib.py:680] create_estimator_and_inputs: use_tpu False, export_to_tpu False\n",
      "INFO:tensorflow:Using config: {'_model_dir': '/experiment_dir/ped_ssd_mobilenet_v2', '_tf_random_seed': None, '_save_summary_steps': 100, '_save_checkpoints_steps': None, '_save_checkpoints_secs': 600, '_session_config': allow_soft_placement: true\n",
      "graph_options {\n",
      "  rewrite_options {\n",
      "    meta_optimizer_iterations: ONE\n",
      "  }\n",
      "}\n",
      ", '_keep_checkpoint_max': 5, '_keep_checkpoint_every_n_hours': 10000, '_log_step_count_steps': 100, '_train_distribute': None, '_device_fn': None, '_protocol': None, '_eval_distribute': None, '_experimental_distribute': None, '_experimental_max_worker_delay_secs': None, '_session_creation_timeout_secs': 7200, '_service': None, '_cluster_spec': <tensorflow.python.training.server_lib.ClusterSpec object at 0x7fceb374ed30>, '_task_type': 'worker', '_task_id': 0, '_global_id_in_cluster': 0, '_master': '', '_evaluation_master': '', '_is_chief': True, '_num_ps_replicas': 0, '_num_worker_replicas': 1}\n",
      "I0524 12:19:17.111724 140528213337920 estimator.py:212] Using config: {'_model_dir': '/experiment_dir/ped_ssd_mobilenet_v2', '_tf_random_seed': None, '_save_summary_steps': 100, '_save_checkpoints_steps': None, '_save_checkpoints_secs': 600, '_session_config': allow_soft_placement: true\n",
      "graph_options {\n",
      "  rewrite_options {\n",
      "    meta_optimizer_iterations: ONE\n",
      "  }\n",
      "}\n",
      ", '_keep_checkpoint_max': 5, '_keep_checkpoint_every_n_hours': 10000, '_log_step_count_steps': 100, '_train_distribute': None, '_device_fn': None, '_protocol': None, '_eval_distribute': None, '_experimental_distribute': None, '_experimental_max_worker_delay_secs': None, '_session_creation_timeout_secs': 7200, '_service': None, '_cluster_spec': <tensorflow.python.training.server_lib.ClusterSpec object at 0x7fceb374ed30>, '_task_type': 'worker', '_task_id': 0, '_global_id_in_cluster': 0, '_master': '', '_evaluation_master': '', '_is_chief': True, '_num_ps_replicas': 0, '_num_worker_replicas': 1}\n",
      "WARNING:tensorflow:Estimator's model_fn (<function create_model_fn.<locals>.model_fn at 0x7fceb36e36a8>) includes params argument, but params are not passed to Estimator.\n",
      "W0524 12:19:17.111848 140528213337920 model_fn.py:630] Estimator's model_fn (<function create_model_fn.<locals>.model_fn at 0x7fceb36e36a8>) includes params argument, but params are not passed to Estimator.\n",
      "INFO:tensorflow:Not using Distribute Coordinator.\n",
      "I0524 12:19:17.112321 140528213337920 estimator_training.py:186] Not using Distribute Coordinator.\n",
      "INFO:tensorflow:Running training and evaluation locally (non-distributed).\n",
      "I0524 12:19:17.112430 140528213337920 training.py:612] Running training and evaluation locally (non-distributed).\n",
      "INFO:tensorflow:Start train and evaluate loop. The evaluate will happen after every checkpoint. Checkpoint frequency is determined based on RunConfig arguments: save_checkpoints_steps None or save_checkpoints_secs 600.\n",
      "I0524 12:19:17.112588 140528213337920 training.py:700] Start train and evaluate loop. The evaluate will happen after every checkpoint. Checkpoint frequency is determined based on RunConfig arguments: save_checkpoints_steps None or save_checkpoints_secs 600.\n",
      "WARNING:tensorflow:From /usr/local/lib/python3.6/dist-packages/tensorflow_core/python/training/training_util.py:236: Variable.initialized_value (from tensorflow.python.ops.variables) is deprecated and will be removed in a future version.\n",
      "Instructions for updating:\n",
      "Use Variable.read_value. Variables in 2.X are initialized automatically both in eager and graph (inside tf.defun) contexts.\n",
      "W0524 12:19:17.150851 140528213337920 deprecation.py:323] From /usr/local/lib/python3.6/dist-packages/tensorflow_core/python/training/training_util.py:236: Variable.initialized_value (from tensorflow.python.ops.variables) is deprecated and will be removed in a future version.\n",
      "Instructions for updating:\n",
      "Use Variable.read_value. Variables in 2.X are initialized automatically both in eager and graph (inside tf.defun) contexts.\n",
      "WARNING:tensorflow:From /models/research/object_detection/data_decoders/tf_example_decoder.py:182: The name tf.FixedLenFeature is deprecated. Please use tf.io.FixedLenFeature instead.\n",
      "\n",
      "W0524 12:19:17.157979 140528213337920 module_wrapper.py:139] From /models/research/object_detection/data_decoders/tf_example_decoder.py:182: The name tf.FixedLenFeature is deprecated. Please use tf.io.FixedLenFeature instead.\n",
      "\n",
      "WARNING:tensorflow:From /models/research/object_detection/data_decoders/tf_example_decoder.py:197: The name tf.VarLenFeature is deprecated. Please use tf.io.VarLenFeature instead.\n",
      "\n",
      "W0524 12:19:17.158099 140528213337920 module_wrapper.py:139] From /models/research/object_detection/data_decoders/tf_example_decoder.py:197: The name tf.VarLenFeature is deprecated. Please use tf.io.VarLenFeature instead.\n",
      "\n",
      "WARNING:tensorflow:From /models/research/object_detection/builders/dataset_builder.py:64: The name tf.gfile.Glob is deprecated. Please use tf.io.gfile.glob instead.\n",
      "\n",
      "W0524 12:19:17.164895 140528213337920 module_wrapper.py:139] From /models/research/object_detection/builders/dataset_builder.py:64: The name tf.gfile.Glob is deprecated. Please use tf.io.gfile.glob instead.\n",
      "\n",
      "WARNING:tensorflow:num_readers has been reduced to 1 to match input file shards.\n",
      "W0524 12:19:17.165360 140528213337920 dataset_builder.py:72] num_readers has been reduced to 1 to match input file shards.\n",
      "WARNING:tensorflow:From /models/research/object_detection/builders/dataset_builder.py:86: parallel_interleave (from tensorflow.contrib.data.python.ops.interleave_ops) is deprecated and will be removed in a future version.\n",
      "Instructions for updating:\n",
      "Use `tf.data.experimental.parallel_interleave(...)`.\n",
      "W0524 12:19:17.168478 140528213337920 deprecation.py:323] From /models/research/object_detection/builders/dataset_builder.py:86: parallel_interleave (from tensorflow.contrib.data.python.ops.interleave_ops) is deprecated and will be removed in a future version.\n",
      "Instructions for updating:\n",
      "Use `tf.data.experimental.parallel_interleave(...)`.\n",
      "WARNING:tensorflow:From /usr/local/lib/python3.6/dist-packages/tensorflow_core/contrib/data/python/ops/interleave_ops.py:77: parallel_interleave (from tensorflow.python.data.experimental.ops.interleave_ops) is deprecated and will be removed in a future version.\n",
      "Instructions for updating:\n",
      "Use `tf.data.Dataset.interleave(map_func, cycle_length, block_length, num_parallel_calls=tf.data.experimental.AUTOTUNE)` instead. If sloppy execution is desired, use `tf.data.Options.experimental_determinstic`.\n",
      "W0524 12:19:17.168558 140528213337920 deprecation.py:323] From /usr/local/lib/python3.6/dist-packages/tensorflow_core/contrib/data/python/ops/interleave_ops.py:77: parallel_interleave (from tensorflow.python.data.experimental.ops.interleave_ops) is deprecated and will be removed in a future version.\n",
      "Instructions for updating:\n",
      "Use `tf.data.Dataset.interleave(map_func, cycle_length, block_length, num_parallel_calls=tf.data.experimental.AUTOTUNE)` instead. If sloppy execution is desired, use `tf.data.Options.experimental_determinstic`.\n",
      "WARNING:tensorflow:From /models/research/object_detection/builders/dataset_builder.py:155: DatasetV1.map_with_legacy_function (from tensorflow.python.data.ops.dataset_ops) is deprecated and will be removed in a future version.\n",
      "Instructions for updating:\n",
      "Use `tf.data.Dataset.map()\n",
      "W0524 12:19:17.192751 140528213337920 deprecation.py:323] From /models/research/object_detection/builders/dataset_builder.py:155: DatasetV1.map_with_legacy_function (from tensorflow.python.data.ops.dataset_ops) is deprecated and will be removed in a future version.\n",
      "Instructions for updating:\n",
      "Use `tf.data.Dataset.map()\n"
     ]
    },
    {
     "name": "stdout",
     "output_type": "stream",
     "text": [
      "WARNING:tensorflow:From /usr/local/lib/python3.6/dist-packages/tensorflow_core/python/autograph/converters/directives.py:119: The name tf.logging.warn is deprecated. Please use tf.compat.v1.logging.warn instead.\n",
      "\n",
      "W0524 12:19:18.218487 140528213337920 module_wrapper.py:139] From /usr/local/lib/python3.6/dist-packages/tensorflow_core/python/autograph/converters/directives.py:119: The name tf.logging.warn is deprecated. Please use tf.compat.v1.logging.warn instead.\n",
      "\n",
      "WARNING:tensorflow:From /usr/local/lib/python3.6/dist-packages/tensorflow_core/python/autograph/converters/directives.py:119: The name tf.is_nan is deprecated. Please use tf.math.is_nan instead.\n",
      "\n",
      "W0524 12:19:24.139538 140528213337920 module_wrapper.py:139] From /usr/local/lib/python3.6/dist-packages/tensorflow_core/python/autograph/converters/directives.py:119: The name tf.is_nan is deprecated. Please use tf.math.is_nan instead.\n",
      "\n",
      "WARNING:tensorflow:From /models/research/object_detection/utils/ops.py:493: where (from tensorflow.python.ops.array_ops) is deprecated and will be removed in a future version.\n",
      "Instructions for updating:\n",
      "Use tf.where in 2.0, which has the same broadcast rule as np.where\n",
      "W0524 12:19:24.205282 140528213337920 deprecation.py:323] From /models/research/object_detection/utils/ops.py:493: where (from tensorflow.python.ops.array_ops) is deprecated and will be removed in a future version.\n",
      "Instructions for updating:\n",
      "Use tf.where in 2.0, which has the same broadcast rule as np.where\n",
      "WARNING:tensorflow:From /usr/local/lib/python3.6/dist-packages/tensorflow_core/python/autograph/converters/directives.py:119: The name tf.random_uniform is deprecated. Please use tf.random.uniform instead.\n",
      "\n",
      "W0524 12:19:26.056770 140528213337920 module_wrapper.py:139] From /usr/local/lib/python3.6/dist-packages/tensorflow_core/python/autograph/converters/directives.py:119: The name tf.random_uniform is deprecated. Please use tf.random.uniform instead.\n",
      "\n",
      "WARNING:tensorflow:From /usr/local/lib/python3.6/dist-packages/tensorflow_core/python/autograph/operators/control_flow.py:1004: sample_distorted_bounding_box (from tensorflow.python.ops.image_ops_impl) is deprecated and will be removed in a future version.\n",
      "Instructions for updating:\n",
      "`seed2` arg is deprecated.Use sample_distorted_bounding_box_v2 instead.\n",
      "W0524 12:19:28.800316 140528213337920 api.py:332] From /usr/local/lib/python3.6/dist-packages/tensorflow_core/python/autograph/operators/control_flow.py:1004: sample_distorted_bounding_box (from tensorflow.python.ops.image_ops_impl) is deprecated and will be removed in a future version.\n",
      "Instructions for updating:\n",
      "`seed2` arg is deprecated.Use sample_distorted_bounding_box_v2 instead.\n",
      "WARNING:tensorflow:From /usr/local/lib/python3.6/dist-packages/tensorflow_core/python/autograph/converters/directives.py:119: The name tf.image.resize_images is deprecated. Please use tf.image.resize instead.\n",
      "\n",
      "W0524 12:19:31.341004 140528213337920 module_wrapper.py:139] From /usr/local/lib/python3.6/dist-packages/tensorflow_core/python/autograph/converters/directives.py:119: The name tf.image.resize_images is deprecated. Please use tf.image.resize instead.\n",
      "\n",
      "WARNING:tensorflow:From /usr/local/lib/python3.6/dist-packages/tensorflow_core/python/autograph/converters/directives.py:119: The name tf.image.resize_nearest_neighbor is deprecated. Please use tf.compat.v1.image.resize_nearest_neighbor instead.\n",
      "\n",
      "W0524 12:19:31.341835 140528213337920 module_wrapper.py:139] From /usr/local/lib/python3.6/dist-packages/tensorflow_core/python/autograph/converters/directives.py:119: The name tf.image.resize_nearest_neighbor is deprecated. Please use tf.compat.v1.image.resize_nearest_neighbor instead.\n",
      "\n",
      "WARNING:tensorflow:From /models/research/object_detection/inputs.py:166: to_float (from tensorflow.python.ops.math_ops) is deprecated and will be removed in a future version.\n",
      "Instructions for updating:\n",
      "Use `tf.cast` instead.\n",
      "W0524 12:19:31.719513 140528213337920 deprecation.py:323] From /models/research/object_detection/inputs.py:166: to_float (from tensorflow.python.ops.math_ops) is deprecated and will be removed in a future version.\n",
      "Instructions for updating:\n",
      "Use `tf.cast` instead.\n",
      "WARNING:tensorflow:From /usr/local/lib/python3.6/dist-packages/tensorflow_core/python/autograph/converters/directives.py:119: The name tf.string_to_hash_bucket_fast is deprecated. Please use tf.strings.to_hash_bucket_fast instead.\n",
      "\n",
      "W0524 12:19:33.167667 140528213337920 module_wrapper.py:139] From /usr/local/lib/python3.6/dist-packages/tensorflow_core/python/autograph/converters/directives.py:119: The name tf.string_to_hash_bucket_fast is deprecated. Please use tf.strings.to_hash_bucket_fast instead.\n",
      "\n",
      "WARNING:tensorflow:From /models/research/object_detection/builders/dataset_builder.py:158: batch_and_drop_remainder (from tensorflow.contrib.data.python.ops.batching) is deprecated and will be removed in a future version.\n",
      "Instructions for updating:\n",
      "Use `tf.data.Dataset.batch(..., drop_remainder=True)`.\n",
      "W0524 12:19:33.567782 140528213337920 deprecation.py:323] From /models/research/object_detection/builders/dataset_builder.py:158: batch_and_drop_remainder (from tensorflow.contrib.data.python.ops.batching) is deprecated and will be removed in a future version.\n",
      "Instructions for updating:\n",
      "Use `tf.data.Dataset.batch(..., drop_remainder=True)`.\n",
      "INFO:tensorflow:Calling model_fn.\n",
      "I0524 12:19:33.577327 140528213337920 estimator.py:1148] Calling model_fn.\n",
      "WARNING:tensorflow:From /models/research/object_detection/meta_architectures/ssd_meta_arch.py:589: The name tf.GraphKeys is deprecated. Please use tf.compat.v1.GraphKeys instead.\n",
      "\n",
      "W0524 12:19:33.762960 140528213337920 module_wrapper.py:139] From /models/research/object_detection/meta_architectures/ssd_meta_arch.py:589: The name tf.GraphKeys is deprecated. Please use tf.compat.v1.GraphKeys instead.\n",
      "\n",
      "WARNING:tensorflow:From /models/research/object_detection/meta_architectures/ssd_meta_arch.py:597: The name tf.variable_scope is deprecated. Please use tf.compat.v1.variable_scope instead.\n",
      "\n",
      "W0524 12:19:33.763110 140528213337920 module_wrapper.py:139] From /models/research/object_detection/meta_architectures/ssd_meta_arch.py:597: The name tf.variable_scope is deprecated. Please use tf.compat.v1.variable_scope instead.\n",
      "\n",
      "WARNING:tensorflow:From /usr/local/lib/python3.6/dist-packages/tensorflow_core/contrib/layers/python/layers/layers.py:1057: Layer.apply (from tensorflow.python.keras.engine.base_layer) is deprecated and will be removed in a future version.\n",
      "Instructions for updating:\n",
      "Please use `layer.__call__` method instead.\n",
      "W0524 12:19:33.765030 140528213337920 deprecation.py:323] From /usr/local/lib/python3.6/dist-packages/tensorflow_core/contrib/layers/python/layers/layers.py:1057: Layer.apply (from tensorflow.python.keras.engine.base_layer) is deprecated and will be removed in a future version.\n",
      "Instructions for updating:\n",
      "Please use `layer.__call__` method instead.\n",
      "WARNING:tensorflow:From /models/research/object_detection/core/anchor_generator.py:171: The name tf.assert_equal is deprecated. Please use tf.compat.v1.assert_equal instead.\n",
      "\n",
      "W0524 12:19:35.432558 140528213337920 module_wrapper.py:139] From /models/research/object_detection/core/anchor_generator.py:171: The name tf.assert_equal is deprecated. Please use tf.compat.v1.assert_equal instead.\n",
      "\n",
      "INFO:tensorflow:depth of additional conv before box predictor: 0\n",
      "I0524 12:19:35.438579 140528213337920 convolutional_box_predictor.py:151] depth of additional conv before box predictor: 0\n",
      "INFO:tensorflow:depth of additional conv before box predictor: 0\n",
      "I0524 12:19:35.457399 140528213337920 convolutional_box_predictor.py:151] depth of additional conv before box predictor: 0\n",
      "INFO:tensorflow:depth of additional conv before box predictor: 0\n",
      "I0524 12:19:35.475733 140528213337920 convolutional_box_predictor.py:151] depth of additional conv before box predictor: 0\n",
      "INFO:tensorflow:depth of additional conv before box predictor: 0\n",
      "I0524 12:19:35.494466 140528213337920 convolutional_box_predictor.py:151] depth of additional conv before box predictor: 0\n",
      "INFO:tensorflow:depth of additional conv before box predictor: 0\n",
      "I0524 12:19:35.512860 140528213337920 convolutional_box_predictor.py:151] depth of additional conv before box predictor: 0\n",
      "INFO:tensorflow:depth of additional conv before box predictor: 0\n",
      "I0524 12:19:35.531255 140528213337920 convolutional_box_predictor.py:151] depth of additional conv before box predictor: 0\n",
      "WARNING:tensorflow:From /models/research/object_detection/utils/variables_helper.py:179: The name tf.global_variables is deprecated. Please use tf.compat.v1.global_variables instead.\n",
      "\n",
      "W0524 12:19:35.552449 140528213337920 module_wrapper.py:139] From /models/research/object_detection/utils/variables_helper.py:179: The name tf.global_variables is deprecated. Please use tf.compat.v1.global_variables instead.\n",
      "\n",
      "WARNING:tensorflow:From /models/research/object_detection/utils/variables_helper.py:139: The name tf.train.NewCheckpointReader is deprecated. Please use tf.compat.v1.train.NewCheckpointReader instead.\n",
      "\n",
      "W0524 12:19:35.553146 140528213337920 module_wrapper.py:139] From /models/research/object_detection/utils/variables_helper.py:139: The name tf.train.NewCheckpointReader is deprecated. Please use tf.compat.v1.train.NewCheckpointReader instead.\n",
      "\n"
     ]
    },
    {
     "name": "stdout",
     "output_type": "stream",
     "text": [
      "W0524 12:19:35.578225 140528213337920 variables_helper.py:154] Variable [FeatureExtractor/MobilenetV2/layer_19_2_Conv2d_2_3x3_s2_512/weights] is available in checkpoint, but has an incompatible shape with model variable. Checkpoint shape: [[1, 1, 256, 512]], model variable shape: [[3, 3, 256, 512]]. This variable will not be initialized from the checkpoint.\n",
      "W0524 12:19:35.578315 140528213337920 variables_helper.py:154] Variable [FeatureExtractor/MobilenetV2/layer_19_2_Conv2d_3_3x3_s2_256/weights] is available in checkpoint, but has an incompatible shape with model variable. Checkpoint shape: [[1, 1, 128, 256]], model variable shape: [[3, 3, 128, 256]]. This variable will not be initialized from the checkpoint.\n",
      "W0524 12:19:35.578385 140528213337920 variables_helper.py:154] Variable [FeatureExtractor/MobilenetV2/layer_19_2_Conv2d_4_3x3_s2_256/weights] is available in checkpoint, but has an incompatible shape with model variable. Checkpoint shape: [[1, 1, 128, 256]], model variable shape: [[3, 3, 128, 256]]. This variable will not be initialized from the checkpoint.\n",
      "W0524 12:19:35.578453 140528213337920 variables_helper.py:154] Variable [FeatureExtractor/MobilenetV2/layer_19_2_Conv2d_5_3x3_s2_128/weights] is available in checkpoint, but has an incompatible shape with model variable. Checkpoint shape: [[1, 1, 64, 128]], model variable shape: [[3, 3, 64, 128]]. This variable will not be initialized from the checkpoint.\n",
      "WARNING:tensorflow:From /models/research/object_detection/model_lib.py:353: The name tf.train.init_from_checkpoint is deprecated. Please use tf.compat.v1.train.init_from_checkpoint instead.\n",
      "\n",
      "W0524 12:19:35.578543 140528213337920 module_wrapper.py:139] From /models/research/object_detection/model_lib.py:353: The name tf.train.init_from_checkpoint is deprecated. Please use tf.compat.v1.train.init_from_checkpoint instead.\n",
      "\n",
      "WARNING:tensorflow:From /models/research/object_detection/box_coders/faster_rcnn_box_coder.py:82: The name tf.log is deprecated. Please use tf.math.log instead.\n",
      "\n",
      "W0524 12:19:36.105485 140528213337920 module_wrapper.py:139] From /models/research/object_detection/box_coders/faster_rcnn_box_coder.py:82: The name tf.log is deprecated. Please use tf.math.log instead.\n",
      "\n",
      "WARNING:tensorflow:From /models/research/object_detection/meta_architectures/ssd_meta_arch.py:1163: The name tf.summary.scalar is deprecated. Please use tf.compat.v1.summary.scalar instead.\n",
      "\n",
      "W0524 12:19:38.263693 140528213337920 module_wrapper.py:139] From /models/research/object_detection/meta_architectures/ssd_meta_arch.py:1163: The name tf.summary.scalar is deprecated. Please use tf.compat.v1.summary.scalar instead.\n",
      "\n",
      "WARNING:tensorflow:From /models/research/object_detection/core/losses.py:177: The name tf.losses.huber_loss is deprecated. Please use tf.compat.v1.losses.huber_loss instead.\n",
      "\n",
      "W0524 12:19:38.266966 140528213337920 module_wrapper.py:139] From /models/research/object_detection/core/losses.py:177: The name tf.losses.huber_loss is deprecated. Please use tf.compat.v1.losses.huber_loss instead.\n",
      "\n",
      "WARNING:tensorflow:From /models/research/object_detection/core/losses.py:183: The name tf.losses.Reduction is deprecated. Please use tf.compat.v1.losses.Reduction instead.\n",
      "\n",
      "W0524 12:19:38.267627 140528213337920 module_wrapper.py:139] From /models/research/object_detection/core/losses.py:183: The name tf.losses.Reduction is deprecated. Please use tf.compat.v1.losses.Reduction instead.\n",
      "\n",
      "WARNING:tensorflow:From /models/research/object_detection/meta_architectures/ssd_meta_arch.py:1275: The name tf.get_collection is deprecated. Please use tf.compat.v1.get_collection instead.\n",
      "\n",
      "W0524 12:19:38.578817 140528213337920 module_wrapper.py:139] From /models/research/object_detection/meta_architectures/ssd_meta_arch.py:1275: The name tf.get_collection is deprecated. Please use tf.compat.v1.get_collection instead.\n",
      "\n",
      "WARNING:tensorflow:From /models/research/object_detection/model_lib.py:380: The name tf.train.get_or_create_global_step is deprecated. Please use tf.compat.v1.train.get_or_create_global_step instead.\n",
      "\n",
      "W0524 12:19:38.580498 140528213337920 module_wrapper.py:139] From /models/research/object_detection/model_lib.py:380: The name tf.train.get_or_create_global_step is deprecated. Please use tf.compat.v1.train.get_or_create_global_step instead.\n",
      "\n",
      "WARNING:tensorflow:From /models/research/object_detection/utils/learning_schedules.py:66: The name tf.train.exponential_decay is deprecated. Please use tf.compat.v1.train.exponential_decay instead.\n",
      "\n",
      "W0524 12:19:38.580638 140528213337920 module_wrapper.py:139] From /models/research/object_detection/utils/learning_schedules.py:66: The name tf.train.exponential_decay is deprecated. Please use tf.compat.v1.train.exponential_decay instead.\n",
      "\n",
      "WARNING:tensorflow:From /models/research/object_detection/builders/optimizer_builder.py:47: The name tf.train.RMSPropOptimizer is deprecated. Please use tf.compat.v1.train.RMSPropOptimizer instead.\n",
      "\n",
      "W0524 12:19:38.585428 140528213337920 module_wrapper.py:139] From /models/research/object_detection/builders/optimizer_builder.py:47: The name tf.train.RMSPropOptimizer is deprecated. Please use tf.compat.v1.train.RMSPropOptimizer instead.\n",
      "\n",
      "WARNING:tensorflow:From /models/research/object_detection/model_lib.py:398: The name tf.trainable_variables is deprecated. Please use tf.compat.v1.trainable_variables instead.\n",
      "\n",
      "W0524 12:19:38.585545 140528213337920 module_wrapper.py:139] From /models/research/object_detection/model_lib.py:398: The name tf.trainable_variables is deprecated. Please use tf.compat.v1.trainable_variables instead.\n",
      "\n",
      "WARNING:tensorflow:From /usr/local/lib/python3.6/dist-packages/tensorflow_core/python/training/rmsprop.py:119: calling Ones.__init__ (from tensorflow.python.ops.init_ops) with dtype is deprecated and will be removed in a future version.\n",
      "Instructions for updating:\n",
      "Call initializer instance with the dtype argument instead of passing it to the constructor\n",
      "W0524 12:19:39.998580 140528213337920 deprecation.py:506] From /usr/local/lib/python3.6/dist-packages/tensorflow_core/python/training/rmsprop.py:119: calling Ones.__init__ (from tensorflow.python.ops.init_ops) with dtype is deprecated and will be removed in a future version.\n",
      "Instructions for updating:\n",
      "Call initializer instance with the dtype argument instead of passing it to the constructor\n",
      "WARNING:tensorflow:From /models/research/object_detection/model_lib.py:515: The name tf.train.Saver is deprecated. Please use tf.compat.v1.train.Saver instead.\n",
      "\n",
      "W0524 12:19:43.310242 140528213337920 module_wrapper.py:139] From /models/research/object_detection/model_lib.py:515: The name tf.train.Saver is deprecated. Please use tf.compat.v1.train.Saver instead.\n",
      "\n",
      "WARNING:tensorflow:From /models/research/object_detection/model_lib.py:519: The name tf.add_to_collection is deprecated. Please use tf.compat.v1.add_to_collection instead.\n",
      "\n",
      "W0524 12:19:43.731358 140528213337920 module_wrapper.py:139] From /models/research/object_detection/model_lib.py:519: The name tf.add_to_collection is deprecated. Please use tf.compat.v1.add_to_collection instead.\n",
      "\n",
      "WARNING:tensorflow:From /models/research/object_detection/model_lib.py:520: The name tf.train.Scaffold is deprecated. Please use tf.compat.v1.train.Scaffold instead.\n",
      "\n",
      "W0524 12:19:43.731518 140528213337920 module_wrapper.py:139] From /models/research/object_detection/model_lib.py:520: The name tf.train.Scaffold is deprecated. Please use tf.compat.v1.train.Scaffold instead.\n",
      "\n",
      "INFO:tensorflow:Done calling model_fn.\n",
      "I0524 12:19:43.731841 140528213337920 estimator.py:1150] Done calling model_fn.\n",
      "INFO:tensorflow:Create CheckpointSaverHook.\n",
      "I0524 12:19:43.732563 140528213337920 basic_session_run_hooks.py:541] Create CheckpointSaverHook.\n",
      "INFO:tensorflow:Graph was finalized.\n",
      "I0524 12:19:46.963233 140528213337920 monitored_session.py:240] Graph was finalized.\n",
      "2020-05-24 12:19:46.978764: I tensorflow/core/platform/cpu_feature_guard.cc:142] Your CPU supports instructions that this TensorFlow binary was not compiled to use: AVX2 FMA\n",
      "2020-05-24 12:19:47.106667: I tensorflow/core/platform/profile_utils/cpu_utils.cc:94] CPU Frequency: 3999785000 Hz\n",
      "2020-05-24 12:19:47.107404: I tensorflow/compiler/xla/service/service.cc:168] XLA service 0x53657f0 initialized for platform Host (this does not guarantee that XLA will be used). Devices:\n",
      "2020-05-24 12:19:47.107419: I tensorflow/compiler/xla/service/service.cc:176]   StreamExecutor device (0): Host, Default Version\n"
     ]
    },
    {
     "name": "stdout",
     "output_type": "stream",
     "text": [
      "2020-05-24 12:19:47.123208: I tensorflow/stream_executor/platform/default/dso_loader.cc:44] Successfully opened dynamic library libcuda.so.1\n",
      "2020-05-24 12:19:47.322188: I tensorflow/stream_executor/cuda/cuda_gpu_executor.cc:983] successful NUMA node read from SysFS had negative value (-1), but there must be at least one NUMA node, so returning NUMA node zero\n",
      "2020-05-24 12:19:47.331255: I tensorflow/stream_executor/cuda/cuda_gpu_executor.cc:983] successful NUMA node read from SysFS had negative value (-1), but there must be at least one NUMA node, so returning NUMA node zero\n",
      "2020-05-24 12:19:47.331819: I tensorflow/compiler/xla/service/service.cc:168] XLA service 0x513d8f0 initialized for platform CUDA (this does not guarantee that XLA will be used). Devices:\n",
      "2020-05-24 12:19:47.331836: I tensorflow/compiler/xla/service/service.cc:176]   StreamExecutor device (0): GeForce RTX 2070 SUPER, Compute Capability 7.5\n",
      "2020-05-24 12:19:47.331843: I tensorflow/compiler/xla/service/service.cc:176]   StreamExecutor device (1): GeForce RTX 2070 SUPER, Compute Capability 7.5\n",
      "2020-05-24 12:19:47.332077: I tensorflow/stream_executor/cuda/cuda_gpu_executor.cc:983] successful NUMA node read from SysFS had negative value (-1), but there must be at least one NUMA node, so returning NUMA node zero\n",
      "2020-05-24 12:19:47.332513: I tensorflow/core/common_runtime/gpu/gpu_device.cc:1618] Found device 0 with properties: \n",
      "name: GeForce RTX 2070 SUPER major: 7 minor: 5 memoryClockRate(GHz): 1.77\n",
      "pciBusID: 0000:0a:00.0\n",
      "2020-05-24 12:19:47.332562: I tensorflow/stream_executor/cuda/cuda_gpu_executor.cc:983] successful NUMA node read from SysFS had negative value (-1), but there must be at least one NUMA node, so returning NUMA node zero\n",
      "2020-05-24 12:19:47.332984: I tensorflow/core/common_runtime/gpu/gpu_device.cc:1618] Found device 1 with properties: \n",
      "name: GeForce RTX 2070 SUPER major: 7 minor: 5 memoryClockRate(GHz): 1.77\n",
      "pciBusID: 0000:0b:00.0\n",
      "2020-05-24 12:19:47.333161: I tensorflow/stream_executor/platform/default/dso_loader.cc:44] Successfully opened dynamic library libcudart.so.10.0\n",
      "2020-05-24 12:19:47.693780: I tensorflow/stream_executor/platform/default/dso_loader.cc:44] Successfully opened dynamic library libcublas.so.10.0\n",
      "2020-05-24 12:19:47.810687: I tensorflow/stream_executor/platform/default/dso_loader.cc:44] Successfully opened dynamic library libcufft.so.10.0\n",
      "2020-05-24 12:19:47.864478: I tensorflow/stream_executor/platform/default/dso_loader.cc:44] Successfully opened dynamic library libcurand.so.10.0\n",
      "2020-05-24 12:19:48.316362: I tensorflow/stream_executor/platform/default/dso_loader.cc:44] Successfully opened dynamic library libcusolver.so.10.0\n",
      "2020-05-24 12:19:48.585578: I tensorflow/stream_executor/platform/default/dso_loader.cc:44] Successfully opened dynamic library libcusparse.so.10.0\n",
      "2020-05-24 12:19:49.349267: I tensorflow/stream_executor/platform/default/dso_loader.cc:44] Successfully opened dynamic library libcudnn.so.7\n",
      "2020-05-24 12:19:49.349436: I tensorflow/stream_executor/cuda/cuda_gpu_executor.cc:983] successful NUMA node read from SysFS had negative value (-1), but there must be at least one NUMA node, so returning NUMA node zero\n",
      "2020-05-24 12:19:49.349958: I tensorflow/stream_executor/cuda/cuda_gpu_executor.cc:983] successful NUMA node read from SysFS had negative value (-1), but there must be at least one NUMA node, so returning NUMA node zero\n",
      "2020-05-24 12:19:49.350426: I tensorflow/stream_executor/cuda/cuda_gpu_executor.cc:983] successful NUMA node read from SysFS had negative value (-1), but there must be at least one NUMA node, so returning NUMA node zero\n",
      "2020-05-24 12:19:49.350894: I tensorflow/stream_executor/cuda/cuda_gpu_executor.cc:983] successful NUMA node read from SysFS had negative value (-1), but there must be at least one NUMA node, so returning NUMA node zero\n",
      "2020-05-24 12:19:49.351317: I tensorflow/core/common_runtime/gpu/gpu_device.cc:1746] Adding visible gpu devices: 0, 1\n",
      "2020-05-24 12:19:49.360704: I tensorflow/stream_executor/platform/default/dso_loader.cc:44] Successfully opened dynamic library libcudart.so.10.0\n",
      "2020-05-24 12:19:49.361872: I tensorflow/core/common_runtime/gpu/gpu_device.cc:1159] Device interconnect StreamExecutor with strength 1 edge matrix:\n",
      "2020-05-24 12:19:49.361884: I tensorflow/core/common_runtime/gpu/gpu_device.cc:1165]      0 1 \n",
      "2020-05-24 12:19:49.361891: I tensorflow/core/common_runtime/gpu/gpu_device.cc:1178] 0:   N Y \n",
      "2020-05-24 12:19:49.361896: I tensorflow/core/common_runtime/gpu/gpu_device.cc:1178] 1:   Y N \n",
      "2020-05-24 12:19:49.370568: I tensorflow/stream_executor/cuda/cuda_gpu_executor.cc:983] successful NUMA node read from SysFS had negative value (-1), but there must be at least one NUMA node, so returning NUMA node zero\n",
      "2020-05-24 12:19:49.371052: I tensorflow/stream_executor/cuda/cuda_gpu_executor.cc:983] successful NUMA node read from SysFS had negative value (-1), but there must be at least one NUMA node, so returning NUMA node zero\n",
      "2020-05-24 12:19:49.371547: I tensorflow/stream_executor/cuda/cuda_gpu_executor.cc:983] successful NUMA node read from SysFS had negative value (-1), but there must be at least one NUMA node, so returning NUMA node zero\n",
      "2020-05-24 12:19:49.371978: W tensorflow/core/common_runtime/gpu/gpu_bfc_allocator.cc:39] Overriding allow_growth setting because the TF_FORCE_GPU_ALLOW_GROWTH environment variable is set. Original config value was 0.\n",
      "2020-05-24 12:19:49.372003: I tensorflow/core/common_runtime/gpu/gpu_device.cc:1304] Created TensorFlow device (/job:localhost/replica:0/task:0/device:GPU:0 with 7227 MB memory) -> physical GPU (device: 0, name: GeForce RTX 2070 SUPER, pci bus id: 0000:0a:00.0, compute capability: 7.5)\n",
      "2020-05-24 12:19:49.372344: I tensorflow/stream_executor/cuda/cuda_gpu_executor.cc:983] successful NUMA node read from SysFS had negative value (-1), but there must be at least one NUMA node, so returning NUMA node zero\n",
      "2020-05-24 12:19:49.372779: W tensorflow/core/common_runtime/gpu/gpu_bfc_allocator.cc:39] Overriding allow_growth setting because the TF_FORCE_GPU_ALLOW_GROWTH environment variable is set. Original config value was 0.\n",
      "2020-05-24 12:19:49.372795: I tensorflow/core/common_runtime/gpu/gpu_device.cc:1304] Created TensorFlow device (/job:localhost/replica:0/task:0/device:GPU:1 with 7477 MB memory) -> physical GPU (device: 1, name: GeForce RTX 2070 SUPER, pci bus id: 0000:0b:00.0, compute capability: 7.5)\n",
      "INFO:tensorflow:Running local_init_op.\n",
      "I0524 12:19:58.266824 140528213337920 session_manager.py:500] Running local_init_op.\n",
      "INFO:tensorflow:Done running local_init_op.\n",
      "I0524 12:19:58.638142 140528213337920 session_manager.py:502] Done running local_init_op.\n",
      "INFO:tensorflow:Saving checkpoints for 0 into /experiment_dir/ped_ssd_mobilenet_v2/model.ckpt.\n",
      "I0524 12:20:08.027440 140528213337920 basic_session_run_hooks.py:606] Saving checkpoints for 0 into /experiment_dir/ped_ssd_mobilenet_v2/model.ckpt.\n",
      "2020-05-24 12:20:18.332299: I tensorflow/stream_executor/platform/default/dso_loader.cc:44] Successfully opened dynamic library libcudnn.so.7\n",
      "2020-05-24 12:20:23.463493: I tensorflow/stream_executor/platform/default/dso_loader.cc:44] Successfully opened dynamic library libcublas.so.10.0\n",
      "INFO:tensorflow:loss = 14.155113, step = 0\n",
      "I0524 12:20:25.874220 140528213337920 basic_session_run_hooks.py:262] loss = 14.155113, step = 0\n",
      "INFO:tensorflow:global_step/sec: 2.89833\n",
      "I0524 12:21:00.376288 140528213337920 basic_session_run_hooks.py:692] global_step/sec: 2.89833\n",
      "INFO:tensorflow:loss = 5.427953, step = 100 (34.503 sec)\n",
      "I0524 12:21:00.377006 140528213337920 basic_session_run_hooks.py:260] loss = 5.427953, step = 100 (34.503 sec)\n",
      "INFO:tensorflow:global_step/sec: 3.32936\n",
      "I0524 12:21:30.412132 140528213337920 basic_session_run_hooks.py:692] global_step/sec: 3.32936\n",
      "INFO:tensorflow:loss = 4.4419994, step = 200 (30.036 sec)\n",
      "I0524 12:21:30.412906 140528213337920 basic_session_run_hooks.py:260] loss = 4.4419994, step = 200 (30.036 sec)\n",
      "INFO:tensorflow:global_step/sec: 3.30133\n",
      "I0524 12:22:00.702893 140528213337920 basic_session_run_hooks.py:692] global_step/sec: 3.30133\n",
      "INFO:tensorflow:loss = 3.9209754, step = 300 (30.291 sec)\n",
      "I0524 12:22:00.703685 140528213337920 basic_session_run_hooks.py:260] loss = 3.9209754, step = 300 (30.291 sec)\n"
     ]
    }
   ],
   "source": [
    "!python /models/research/object_detection/model_main.py --pipeline_config_path=${PIPELINE_CONFIG_PATH} --model_dir=${MODEL_DIR} --num_train_steps=${NUM_TRAIN_STEPS} --sample_1_of_n_eval_examples=$SAMPLE_1_OF_N_EVAL_EXAMPLES --alsologtostderr"
   ]
  },
  {
   "cell_type": "code",
   "execution_count": 62,
   "metadata": {},
   "outputs": [
    {
     "name": "stdout",
     "output_type": "stream",
     "text": [
      "WARNING:tensorflow:\n",
      "The TensorFlow contrib module will not be included in TensorFlow 2.0.\n",
      "For more information, please see:\n",
      "  * https://github.com/tensorflow/community/blob/master/rfcs/20180907-contrib-sunset.md\n",
      "  * https://github.com/tensorflow/addons\n",
      "  * https://github.com/tensorflow/io (for I/O related ops)\n",
      "If you depend on functionality not listed there, please file an issue.\n",
      "\n"
     ]
    }
   ],
   "source": [
    "from object_detection import model_main"
   ]
  },
  {
   "cell_type": "code",
   "execution_count": 63,
   "metadata": {},
   "outputs": [
    {
     "data": {
      "text/plain": [
       "<module 'object_detection.model_main' from '/models/research/object_detection/model_main.py'>"
      ]
     },
     "execution_count": 63,
     "metadata": {},
     "output_type": "execute_result"
    }
   ],
   "source": []
  },
  {
   "cell_type": "code",
   "execution_count": null,
   "metadata": {},
   "outputs": [],
   "source": []
  }
 ],
 "metadata": {
  "kernelspec": {
   "display_name": "Python 3",
   "language": "python",
   "name": "python3"
  },
  "language_info": {
   "codemirror_mode": {
    "name": "ipython",
    "version": 3
   },
   "file_extension": ".py",
   "mimetype": "text/x-python",
   "name": "python",
   "nbconvert_exporter": "python",
   "pygments_lexer": "ipython3",
   "version": "3.6.8"
  }
 },
 "nbformat": 4,
 "nbformat_minor": 4
}
